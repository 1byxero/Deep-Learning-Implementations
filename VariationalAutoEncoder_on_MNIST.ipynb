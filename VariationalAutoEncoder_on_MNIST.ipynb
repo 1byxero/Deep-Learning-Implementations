{
 "cells": [
  {
   "cell_type": "code",
   "execution_count": 0,
   "metadata": {
    "colab": {},
    "colab_type": "code",
    "id": "YaDBjWJ7nRZc"
   },
   "outputs": [],
   "source": [
    "import torch\n",
    "from torch import nn, optim\n",
    "import torch.nn.functional as F\n",
    "from torch.autograd.variable import Variable\n",
    "\n",
    "from IPython import display\n",
    "from matplotlib import pyplot as plt\n",
    "import numpy as np\n",
    "\n",
    "from torch.utils.data.dataset import Dataset \n",
    "from torch.utils.data import DataLoader\n",
    "import pickle\n"
   ]
  },
  {
   "cell_type": "code",
   "execution_count": 0,
   "metadata": {
    "colab": {
     "base_uri": "https://localhost:8080/",
     "height": 34
    },
    "colab_type": "code",
    "id": "BX81MIRhoeCd",
    "outputId": "6ba2aaae-f0d8-4e5d-d936-3b379ba2b386"
   },
   "outputs": [
    {
     "name": "stdout",
     "output_type": "stream",
     "text": [
      "Drive already mounted at /content/drive; to attempt to forcibly remount, call drive.mount(\"/content/drive\", force_remount=True).\n"
     ]
    }
   ],
   "source": [
    "from google.colab import drive\n",
    "drive.mount('/content/drive')\n",
    "\n",
    "train_file_pickle = \"/content/drive/My Drive/Deep Learning Systems/Assignment4Part1Data/hw4_tr7.pkl\"\n",
    "test_file_pickle = \"/content/drive/My Drive/Deep Learning Systems/Assignment4Part1Data/hw4_te7.pkl\""
   ]
  },
  {
   "cell_type": "code",
   "execution_count": 0,
   "metadata": {
    "colab": {
     "base_uri": "https://localhost:8080/",
     "height": 208
    },
    "colab_type": "code",
    "id": "wauFJ7ak-8Ks",
    "outputId": "424ccf5c-4b38-4da4-a5ce-6c961def39b0"
   },
   "outputs": [
    {
     "name": "stdout",
     "output_type": "stream",
     "text": [
      "Net(\n",
      "  (encodelayer1): Linear(in_features=784, out_features=500, bias=True)\n",
      "  (encodelayer2): Linear(in_features=500, out_features=120, bias=True)\n",
      "  (encodelayer3): Linear(in_features=120, out_features=20, bias=True)\n",
      "  (makemean): Linear(in_features=20, out_features=4, bias=True)\n",
      "  (makevariance): Linear(in_features=20, out_features=4, bias=True)\n",
      "  (z_to_decoderip): Linear(in_features=4, out_features=20, bias=True)\n",
      "  (decodelayer1): Linear(in_features=20, out_features=120, bias=True)\n",
      "  (decodelayer2): Linear(in_features=120, out_features=500, bias=True)\n",
      "  (decodelayer3): Linear(in_features=500, out_features=784, bias=True)\n",
      ")\n"
     ]
    }
   ],
   "source": [
    "\n",
    "class Net(nn.Module):\n",
    "\n",
    "    def __init__(self):\n",
    "        super(Net, self).__init__()\n",
    "        self.encodelayer1 = nn.Linear(784, 500)\n",
    "        self.encodelayer2 = nn.Linear(500, 120)\n",
    "        self.encodelayer3 = nn.Linear(120, 20)\n",
    "        \n",
    "        self.makemean = nn.Linear(20, 4)\n",
    "        self.makevariance = nn.Linear(20, 4)\n",
    "\n",
    "        self.z_to_decoderip = nn.Linear(4, 20)\n",
    "        \n",
    "        self.decodelayer1 = nn.Linear(20, 120)\n",
    "        self.decodelayer2 = nn.Linear(120, 500)\n",
    "        self.decodelayer3 = nn.Linear(500, 784)\n",
    "\n",
    "        self.relu = F.relu\n",
    "        self.sigmoid = F.sigmoid\n",
    "    \n",
    "    def encode(self, x):\n",
    "        x = self.relu(self.encodelayer1(x))\n",
    "        x = self.relu(self.encodelayer2(x))\n",
    "        x = self.relu(self.encodelayer3(x))\n",
    "        return x\n",
    "    \n",
    "    def decode(self, z):\n",
    "        z = self.z_to_decoderip(z)\n",
    "        z = self.relu(self.decodelayer1(z))\n",
    "        z = self.relu(self.decodelayer2(z))\n",
    "        z = self.sigmoid(self.decodelayer3(z))\n",
    "        return z\n",
    "    \n",
    "    def get_sample(self, mean, variance):\n",
    "        std = variance.mul(0.5).exp_()\n",
    "        esp = torch.randn(*mean.size())\n",
    "        z = mean + std * esp\n",
    "        return z\n",
    "    \n",
    "    def process_distribution(self, x):\n",
    "        mean = self.makemean(x)\n",
    "        variance = self.makevariance(x)\n",
    "        sample = self.get_sample(mean, variance)\n",
    "\n",
    "        return mean, variance, sample\n",
    "\n",
    "    def forward(self, x):\n",
    "        #encode the image\n",
    "        x = self.encode(x)\n",
    "\n",
    "        #process the distribution\n",
    "        mean, variance, sample = self.process_distribution(x)\n",
    "        \n",
    "        #decode the image\n",
    "        sample = self.decode(sample)\n",
    "\n",
    "        return mean, variance, sample\n",
    "\n",
    "def init_weights(layer):\n",
    "    if isinstance(layer, nn.Linear):\n",
    "        nn.init.xavier_normal_(layer.weight.data)\n",
    "        nn.init.zeros_(layer.bias.data)\n",
    "\n",
    "def vae_loss(decoded_img, encoded_img, mean, variance):\n",
    "    bce = F.binary_cross_entropy(decoded_img, encoded_img, size_average=False)\n",
    "    kldiv = -0.5 * torch.mean(1 + variance - mean.pow(2) - variance.exp())\n",
    "    return (bce/1000) + kldiv, bce, kldiv\n",
    "\n",
    "class VAEMNISTDataset(Dataset):\n",
    "    def __init__(self, imgs):\n",
    "        self.imgs = torch.from_numpy(imgs)\n",
    "        \n",
    "    def __len__(self):\n",
    "        return len(self.imgs)\n",
    "    \n",
    "    def __getitem__(self, idx):\n",
    "        return self.imgs[idx].view(-1)\n",
    "\n",
    "\n",
    "net = Net()\n",
    "net.apply(init_weights)\n",
    "print(net)\n",
    "\n",
    "learning_rate = 1e-3\n",
    "optimizer = optim.Adam(net.parameters(), lr=learning_rate)\n",
    "\n",
    "\n",
    "data = None\n",
    "with open(train_file_pickle, 'rb') as f:\n",
    "    data = pickle.load(f)\n",
    "\n",
    "ds = VAEMNISTDataset(data)\n",
    "trainloader = DataLoader(ds, batch_size=512, shuffle=False, num_workers=2)"
   ]
  },
  {
   "cell_type": "code",
   "execution_count": 0,
   "metadata": {
    "colab": {
     "base_uri": "https://localhost:8080/",
     "height": 975
    },
    "colab_type": "code",
    "id": "60gZIfB8GKpw",
    "outputId": "ea214935-529f-4613-e521-b18264d65ed6"
   },
   "outputs": [
    {
     "name": "stderr",
     "output_type": "stream",
     "text": [
      "/usr/local/lib/python3.6/dist-packages/torch/nn/functional.py:1351: UserWarning: nn.functional.sigmoid is deprecated. Use torch.sigmoid instead.\n",
      "  warnings.warn(\"nn.functional.sigmoid is deprecated. Use torch.sigmoid instead.\")\n",
      "/usr/local/lib/python3.6/dist-packages/torch/nn/_reduction.py:43: UserWarning: size_average and reduce args will be deprecated, please use reduction='sum' instead.\n",
      "  warnings.warn(warning.format(ret))\n"
     ]
    },
    {
     "name": "stdout",
     "output_type": "stream",
     "text": [
      "Epoch: 0, Loss: 33.62830352783203.\n",
      "Epoch: 10, Loss: 18.201313018798828.\n",
      "Epoch: 20, Loss: 16.599580764770508.\n",
      "Epoch: 30, Loss: 16.05710792541504.\n",
      "Epoch: 40, Loss: 15.685688972473145.\n",
      "Epoch: 50, Loss: 15.647371292114258.\n",
      "Epoch: 60, Loss: 15.29860782623291.\n",
      "Epoch: 70, Loss: 15.214171409606934.\n",
      "Epoch: 80, Loss: 14.950507164001465.\n",
      "Epoch: 90, Loss: 14.79179573059082.\n",
      "Epoch: 100, Loss: 14.817188262939453.\n",
      "Epoch: 110, Loss: 14.759859085083008.\n",
      "Epoch: 120, Loss: 14.533430099487305.\n",
      "Epoch: 130, Loss: 14.728031158447266.\n",
      "Epoch: 140, Loss: 14.587228775024414.\n",
      "Epoch: 150, Loss: 14.39329719543457.\n",
      "Epoch: 160, Loss: 14.390743255615234.\n",
      "Epoch: 170, Loss: 14.407173156738281.\n",
      "Epoch: 180, Loss: 14.346761703491211.\n",
      "Epoch: 190, Loss: 14.119483947753906.\n",
      "Epoch: 200, Loss: 14.638895034790039.\n",
      "Epoch: 210, Loss: 14.139135360717773.\n",
      "Epoch: 220, Loss: 14.029745101928711.\n",
      "Epoch: 230, Loss: 14.00947380065918.\n",
      "Epoch: 240, Loss: 13.984880447387695.\n",
      "Epoch: 250, Loss: 13.936368942260742.\n",
      "Epoch: 260, Loss: 13.926799774169922.\n",
      "Epoch: 270, Loss: 14.361123085021973.\n",
      "Epoch: 280, Loss: 13.984664916992188.\n",
      "Epoch: 290, Loss: 14.269103050231934.\n",
      "Epoch: 300, Loss: 14.252555847167969.\n",
      "Epoch: 310, Loss: 14.126175880432129.\n",
      "Epoch: 320, Loss: 14.197626113891602.\n",
      "Epoch: 330, Loss: 13.991226196289062.\n",
      "Epoch: 340, Loss: 13.763520240783691.\n",
      "Epoch: 350, Loss: 13.70128059387207.\n",
      "Epoch: 360, Loss: 13.877126693725586.\n",
      "Epoch: 370, Loss: 13.85448169708252.\n",
      "Epoch: 380, Loss: 13.900741577148438.\n",
      "Epoch: 390, Loss: 13.774711608886719.\n",
      "Epoch: 400, Loss: 13.637144088745117.\n",
      "Epoch: 410, Loss: 13.620691299438477.\n",
      "Epoch: 420, Loss: 13.63306999206543.\n",
      "Epoch: 430, Loss: 13.66055679321289.\n",
      "Epoch: 440, Loss: 13.459699630737305.\n",
      "Epoch: 450, Loss: 13.554469108581543.\n",
      "Epoch: 460, Loss: 13.806884765625.\n",
      "Epoch: 470, Loss: 13.824272155761719.\n",
      "Epoch: 480, Loss: 13.732368469238281.\n",
      "Epoch: 490, Loss: 13.497220993041992.\n"
     ]
    }
   ],
   "source": [
    "epochs = 500\n",
    "for epoch in range(epochs):\n",
    "    for batch in trainloader:\n",
    "        optimizer.zero_grad()\n",
    "        mean, variance, decoded_imgs = net(batch)\n",
    "        loss, bce, kld = vae_loss(decoded_imgs, batch, mean, variance)\n",
    "        loss.backward()\n",
    "        optimizer.step()\n",
    "    if epoch%10 == 0:\n",
    "        print(\"Epoch: {}, Loss: {}.\".format(epoch, loss.data))\n",
    "    klloss.append(kld)\n",
    "    vaeloss.append(loss)\n",
    "    encodedecodeloss.append(bce)\n"
   ]
  },
  {
   "cell_type": "code",
   "execution_count": 0,
   "metadata": {
    "colab": {
     "base_uri": "https://localhost:8080/",
     "height": 173
    },
    "colab_type": "code",
    "id": "eO_6qyGEMAS3",
    "outputId": "275a917e-5d87-474c-e985-f445d22c9415"
   },
   "outputs": [
    {
     "name": "stderr",
     "output_type": "stream",
     "text": [
      "/usr/local/lib/python3.6/dist-packages/torch/nn/functional.py:1351: UserWarning: nn.functional.sigmoid is deprecated. Use torch.sigmoid instead.\n",
      "  warnings.warn(\"nn.functional.sigmoid is deprecated. Use torch.sigmoid instead.\")\n"
     ]
    },
    {
     "data": {
      "text/plain": [
       "[tensor([[-1.4407,  0.6390, -2.2155,  0.7653],\n",
       "         [ 0.3512, -1.0235,  0.4182,  2.2800],\n",
       "         [-1.1960,  0.9266, -1.4689,  0.0389],\n",
       "         ...,\n",
       "         [ 0.8181,  0.7206, -1.7443,  0.6115],\n",
       "         [-0.5334,  1.0284, -0.6110,  0.6909],\n",
       "         [-1.8767,  0.1449,  0.7711,  0.4754]])]"
      ]
     },
     "execution_count": 346,
     "metadata": {
      "tags": []
     },
     "output_type": "execute_result"
    }
   ],
   "source": [
    "mean_arr = []\n",
    "var_arr = []\n",
    "with torch.no_grad():\n",
    "    for batch in trainloader:\n",
    "        mean, var, sample = net(batch)\n",
    "        mean_arr.append(mean)\n",
    "        var_arr.append(var)\n",
    "        break\n",
    "mean_arr"
   ]
  },
  {
   "cell_type": "code",
   "execution_count": 0,
   "metadata": {
    "colab": {},
    "colab_type": "code",
    "id": "XZfKm8ZjTbsc"
   },
   "outputs": [],
   "source": [
    "mean = mean_arr[0][0]\n",
    "var = var_arr[0][0]"
   ]
  },
  {
   "cell_type": "code",
   "execution_count": 0,
   "metadata": {
    "colab": {
     "base_uri": "https://localhost:8080/",
     "height": 52
    },
    "colab_type": "code",
    "id": "eZcREToZTczk",
    "outputId": "2c3773f7-241f-4317-fdd2-caf0eb1961dc"
   },
   "outputs": [
    {
     "data": {
      "text/plain": [
       "(tensor([-1.4407,  0.6390, -2.2155,  0.7653]),\n",
       " tensor([-4.9136, -4.4309, -4.8486, -5.5370]))"
      ]
     },
     "execution_count": 348,
     "metadata": {
      "tags": []
     },
     "output_type": "execute_result"
    }
   ],
   "source": [
    "mean, var"
   ]
  },
  {
   "cell_type": "code",
   "execution_count": 0,
   "metadata": {
    "colab": {
     "base_uri": "https://localhost:8080/",
     "height": 712
    },
    "colab_type": "code",
    "id": "QdLY8Hl3TlF-",
    "outputId": "a5b710cc-5b70-4f9b-f795-aafd411236f2"
   },
   "outputs": [
    {
     "data": {
      "text/plain": [
       "[tensor([-6.3543,  0.6390, -2.2155,  0.7653]),\n",
       " tensor([-5.2624,  0.6390, -2.2155,  0.7653]),\n",
       " tensor([-4.1704,  0.6390, -2.2155,  0.7653]),\n",
       " tensor([-3.0785,  0.6390, -2.2155,  0.7653]),\n",
       " tensor([-1.9866,  0.6390, -2.2155,  0.7653]),\n",
       " tensor([-0.8947,  0.6390, -2.2155,  0.7653]),\n",
       " tensor([ 0.1972,  0.6390, -2.2155,  0.7653]),\n",
       " tensor([ 1.2891,  0.6390, -2.2155,  0.7653]),\n",
       " tensor([ 2.3810,  0.6390, -2.2155,  0.7653]),\n",
       " tensor([ 3.4729,  0.6390, -2.2155,  0.7653]),\n",
       " tensor([-1.4407, -3.7919, -2.2155,  0.7653]),\n",
       " tensor([-1.4407, -2.8072, -2.2155,  0.7653]),\n",
       " tensor([-1.4407, -1.8226, -2.2155,  0.7653]),\n",
       " tensor([-1.4407, -0.8380, -2.2155,  0.7653]),\n",
       " tensor([-1.4407,  0.1467, -2.2155,  0.7653]),\n",
       " tensor([-1.4407,  1.1313, -2.2155,  0.7653]),\n",
       " tensor([-1.4407,  2.1159, -2.2155,  0.7653]),\n",
       " tensor([-1.4407,  3.1006, -2.2155,  0.7653]),\n",
       " tensor([-1.4407,  4.0852, -2.2155,  0.7653]),\n",
       " tensor([-1.4407,  5.0698, -2.2155,  0.7653]),\n",
       " tensor([-1.4407,  0.6390, -7.0641,  0.7653]),\n",
       " tensor([-1.4407,  0.6390, -5.9867,  0.7653]),\n",
       " tensor([-1.4407,  0.6390, -4.9092,  0.7653]),\n",
       " tensor([-1.4407,  0.6390, -3.8317,  0.7653]),\n",
       " tensor([-1.4407,  0.6390, -2.7542,  0.7653]),\n",
       " tensor([-1.4407,  0.6390, -1.6768,  0.7653]),\n",
       " tensor([-1.4407,  0.6390, -0.5993,  0.7653]),\n",
       " tensor([-1.4407,  0.6390,  0.4782,  0.7653]),\n",
       " tensor([-1.4407,  0.6390,  1.5556,  0.7653]),\n",
       " tensor([-1.4407,  0.6390,  2.6331,  0.7653]),\n",
       " tensor([-1.4407,  0.6390, -2.2155, -4.7717]),\n",
       " tensor([-1.4407,  0.6390, -2.2155, -3.5413]),\n",
       " tensor([-1.4407,  0.6390, -2.2155, -2.3108]),\n",
       " tensor([-1.4407,  0.6390, -2.2155, -1.0804]),\n",
       " tensor([-1.4407,  0.6390, -2.2155,  0.1501]),\n",
       " tensor([-1.4407,  0.6390, -2.2155,  1.3805]),\n",
       " tensor([-1.4407,  0.6390, -2.2155,  2.6110]),\n",
       " tensor([-1.4407,  0.6390, -2.2155,  3.8414]),\n",
       " tensor([-1.4407,  0.6390, -2.2155,  5.0719]),\n",
       " tensor([-1.4407,  0.6390, -2.2155,  6.3023])]"
      ]
     },
     "execution_count": 349,
     "metadata": {
      "tags": []
     },
     "output_type": "execute_result"
    }
   ],
   "source": [
    "all_dim_samples = []\n",
    "for dim in range(4):\n",
    "    vals = np.linspace(mean[dim]+var[dim], mean[dim]-var[dim], 10)\n",
    "    for val in vals:\n",
    "        s = copy.deepcopy(mean)\n",
    "        s[dim] = val\n",
    "        all_dim_samples.append(s)\n",
    "all_dim_samples"
   ]
  },
  {
   "cell_type": "code",
   "execution_count": 0,
   "metadata": {
    "colab": {
     "base_uri": "https://localhost:8080/",
     "height": 775
    },
    "colab_type": "code",
    "id": "kbpvirLGUanL",
    "outputId": "306ee328-7b36-4acb-ede1-2f3746247f47"
   },
   "outputs": [
    {
     "name": "stderr",
     "output_type": "stream",
     "text": [
      "/usr/local/lib/python3.6/dist-packages/torch/nn/functional.py:1351: UserWarning: nn.functional.sigmoid is deprecated. Use torch.sigmoid instead.\n",
      "  warnings.warn(\"nn.functional.sigmoid is deprecated. Use torch.sigmoid instead.\")\n"
     ]
    },
    {
     "data": {
      "image/png": "[encoded data removed]",
      "text/plain": [
       "<Figure size 1080x1080 with 40 Axes>"
      ]
     },
     "metadata": {
      "tags": []
     },
     "output_type": "display_data"
    }
   ],
   "source": [
    "columns = 10\n",
    "rows = 4\n",
    "fig,axes = plt.subplots(nrows = rows, ncols = columns, figsize=(15,15))\n",
    "for ax in axes.flatten():\n",
    "    ax.axis('off')\n",
    "\n",
    "with torch.no_grad():\n",
    "    img_count = 0\n",
    "    index = 0\n",
    "    for val in all_dim_samples:\n",
    "        x = net.decode(val)\n",
    "        x = x.reshape((28,28))\n",
    "        axes[index, img_count].imshow(x, cmap='gray')\n",
    "        img_count+=1\n",
    "        if img_count%10==0:\n",
    "            img_count=0\n",
    "            index+=1\n",
    "fig.show()\n",
    "\n"
   ]
  },
  {
   "cell_type": "markdown",
   "metadata": {
    "colab_type": "text",
    "id": "UmiT1faqgJ0H"
   },
   "source": [
    "### After Looking at the images, it looks like professor has rotated the images and the third dimension out of the 4 controls this behaviour. \n",
    "##### We can claim this as we can see in the third row, the sevens's at the end have got tilted to the left gradually as we change the values of that dimension\n",
    "\n",
    "#### We can see thickness being controlled by second dimention\n",
    "\n",
    "#### We can see rotation being controlled by third dimention. We can also see 4th dimention having a little bit of rotation\n",
    "\n",
    "\n",
    "\n"
   ]
  }
 ],
 "metadata": {
  "colab": {
   "collapsed_sections": [],
   "name": "DLAssignment4part2",
   "provenance": []
  },
  "kernelspec": {
   "display_name": "Python 3",
   "language": "python",
   "name": "python3"
  },
  "language_info": {
   "codemirror_mode": {
    "name": "ipython",
    "version": 3
   },
   "file_extension": ".py",
   "mimetype": "text/x-python",
   "name": "python",
   "nbconvert_exporter": "python",
   "pygments_lexer": "ipython3",
   "version": "3.5.2"
  }
 },
 "nbformat": 4,
 "nbformat_minor": 1
}
